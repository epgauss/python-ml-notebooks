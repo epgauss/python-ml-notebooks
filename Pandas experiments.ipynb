{
 "cells": [
  {
   "cell_type": "code",
   "execution_count": 1,
   "metadata": {
    "collapsed": true
   },
   "outputs": [],
   "source": [
    "%matplotlib inline"
   ]
  },
  {
   "cell_type": "code",
   "execution_count": 17,
   "metadata": {
    "collapsed": true
   },
   "outputs": [],
   "source": [
    "import matplotlib\n",
    "import matplotlib.pyplot as plt\n",
    "import numpy as np"
   ]
  },
  {
   "cell_type": "code",
   "execution_count": 3,
   "metadata": {
    "collapsed": true
   },
   "outputs": [],
   "source": [
    "birdsong_data = [0.080000, 0.444000, 0.448000, 0.449000, 0.667000, 0.670000, 0.932000, 0.938000, 1.384000, 2.338000, 2.428000, 2.434000, 3.979000, 4.043000, 4.094000, 4.100000, 4.174000, 4.301000, 4.303000, 4.311000, 4.421000, 4.631000, 4.833000, 4.961000, 4.965000, 5.094000, 5.097000, 5.178000, 5.183000, 5.473000, 5.478000, 5.766000, 5.767000, 5.772000, 5.841000, 5.843000]\n",
    "birdsong = np.array(birdsong_data)"
   ]
  },
  {
   "cell_type": "code",
   "execution_count": 4,
   "metadata": {
    "collapsed": false
   },
   "outputs": [
    {
     "data": {
      "text/plain": [
       "<matplotlib.text.Text at 0x10f2a7b50>"
      ]
     },
     "execution_count": 4,
     "metadata": {},
     "output_type": "execute_result"
    },
    {
     "data": {
      "image/png": "[encoded data removed]",
      "text/plain": [
       "<matplotlib.figure.Figure at 0x10cdf92d0>"
      ]
     },
     "metadata": {},
     "output_type": "display_data"
    }
   ],
   "source": [
    "plt.scatter(birdsong, [1]*len(birdsong), s=50, alpha=0.5)\n",
    "plt.title('A scatter chirp-o-gram')"
   ]
  },
  {
   "cell_type": "code",
   "execution_count": 5,
   "metadata": {
    "collapsed": false
   },
   "outputs": [
    {
     "data": {
      "image/png": "[encoded data removed]",
      "text/plain": [
       "<matplotlib.figure.Figure at 0x10f7f85d0>"
      ]
     },
     "metadata": {},
     "output_type": "display_data"
    }
   ],
   "source": [
    "x = np.linspace(0, 6, len(birdsong))\n",
    "plt.plot(x, birdsong)\n",
    "plt.title('A simple chirp-o-gram');"
   ]
  },
  {
   "cell_type": "code",
   "execution_count": 6,
   "metadata": {
    "collapsed": true
   },
   "outputs": [],
   "source": [
    "import pandas as pd"
   ]
  },
  {
   "cell_type": "code",
   "execution_count": 8,
   "metadata": {
    "collapsed": false
   },
   "outputs": [],
   "source": [
    "bike_data = pd.read_csv('https://data.stadt-zuerich.ch/dataset/ted_taz_velozaehlstellen_stundenwerte/resource/8d309a06-88b7-407d-b87b-c356d6428fd5/download/velozaehlungstundenwerte2014.csv')"
   ]
  },
  {
   "cell_type": "code",
   "execution_count": 9,
   "metadata": {
    "collapsed": false
   },
   "outputs": [
    {
     "name": "stdout",
     "output_type": "stream",
     "text": [
      "        ﻿\"Zs Text\"  Vkjahr Id  Vkmona Id  Vktag1 Id  Vkstd1 Id Vkwota Namek  \\\n",
      "0       VZS_ANDR_A       2014          1          1          0           Mi   \n",
      "1       VZS_ANDR_A       2014          1          1          1           Mi   \n",
      "2       VZS_ANDR_A       2014          1          1          2           Mi   \n",
      "3       VZS_ANDR_A       2014          1          1          3           Mi   \n",
      "4       VZS_ANDR_A       2014          1          1          4           Mi   \n",
      "5       VZS_ANDR_A       2014          1          1          5           Mi   \n",
      "6       VZS_ANDR_A       2014          1          1          6           Mi   \n",
      "7       VZS_ANDR_A       2014          1          1          7           Mi   \n",
      "8       VZS_ANDR_A       2014          1          1          8           Mi   \n",
      "9       VZS_ANDR_A       2014          1          1          9           Mi   \n",
      "10      VZS_ANDR_A       2014          1          1         10           Mi   \n",
      "11      VZS_ANDR_A       2014          1          1         11           Mi   \n",
      "12      VZS_ANDR_A       2014          1          1         12           Mi   \n",
      "13      VZS_ANDR_A       2014          1          1         13           Mi   \n",
      "14      VZS_ANDR_A       2014          1          1         14           Mi   \n",
      "15      VZS_ANDR_A       2014          1          1         15           Mi   \n",
      "16      VZS_ANDR_A       2014          1          1         16           Mi   \n",
      "17      VZS_ANDR_A       2014          1          1         17           Mi   \n",
      "18      VZS_ANDR_A       2014          1          1         18           Mi   \n",
      "19      VZS_ANDR_A       2014          1          1         19           Mi   \n",
      "20      VZS_ANDR_A       2014          1          1         20           Mi   \n",
      "21      VZS_ANDR_A       2014          1          1         21           Mi   \n",
      "22      VZS_ANDR_A       2014          1          1         22           Mi   \n",
      "23      VZS_ANDR_A       2014          1          1         23           Mi   \n",
      "24      VZS_ANDR_A       2014          1          2          0           Do   \n",
      "25      VZS_ANDR_A       2014          1          2          1           Do   \n",
      "26      VZS_ANDR_A       2014          1          2          2           Do   \n",
      "27      VZS_ANDR_A       2014          1          2          3           Do   \n",
      "28      VZS_ANDR_A       2014          1          2          4           Do   \n",
      "29      VZS_ANDR_A       2014          1          2          5           Do   \n",
      "...            ...        ...        ...        ...        ...          ...   \n",
      "274653  VZS_ZOLL_E       2014         12         30         18           Di   \n",
      "274654  VZS_ZOLL_E       2014         12         30         19           Di   \n",
      "274655  VZS_ZOLL_E       2014         12         30         20           Di   \n",
      "274656  VZS_ZOLL_E       2014         12         30         21           Di   \n",
      "274657  VZS_ZOLL_E       2014         12         30         22           Di   \n",
      "274658  VZS_ZOLL_E       2014         12         30         23           Di   \n",
      "274659  VZS_ZOLL_E       2014         12         31          0           Mi   \n",
      "274660  VZS_ZOLL_E       2014         12         31          1           Mi   \n",
      "274661  VZS_ZOLL_E       2014         12         31          2           Mi   \n",
      "274662  VZS_ZOLL_E       2014         12         31          3           Mi   \n",
      "274663  VZS_ZOLL_E       2014         12         31          4           Mi   \n",
      "274664  VZS_ZOLL_E       2014         12         31          5           Mi   \n",
      "274665  VZS_ZOLL_E       2014         12         31          6           Mi   \n",
      "274666  VZS_ZOLL_E       2014         12         31          7           Mi   \n",
      "274667  VZS_ZOLL_E       2014         12         31          8           Mi   \n",
      "274668  VZS_ZOLL_E       2014         12         31          9           Mi   \n",
      "274669  VZS_ZOLL_E       2014         12         31         10           Mi   \n",
      "274670  VZS_ZOLL_E       2014         12         31         11           Mi   \n",
      "274671  VZS_ZOLL_E       2014         12         31         12           Mi   \n",
      "274672  VZS_ZOLL_E       2014         12         31         13           Mi   \n",
      "274673  VZS_ZOLL_E       2014         12         31         14           Mi   \n",
      "274674  VZS_ZOLL_E       2014         12         31         15           Mi   \n",
      "274675  VZS_ZOLL_E       2014         12         31         16           Mi   \n",
      "274676  VZS_ZOLL_E       2014         12         31         17           Mi   \n",
      "274677  VZS_ZOLL_E       2014         12         31         18           Mi   \n",
      "274678  VZS_ZOLL_E       2014         12         31         19           Mi   \n",
      "274679  VZS_ZOLL_E       2014         12         31         20           Mi   \n",
      "274680  VZS_ZOLL_E       2014         12         31         21           Mi   \n",
      "274681  VZS_ZOLL_E       2014         12         31         22           Mi   \n",
      "274682  VZS_ZOLL_E       2014         12         31         23           Mi   \n",
      "\n",
      "       Zaehlstellezeit2  Ausfall  Anzahl  \n",
      "0            2014-01-01        0       0  \n",
      "1            2014-01-01        0       0  \n",
      "2            2014-01-01        0       0  \n",
      "3            2014-01-01        0       0  \n",
      "4            2014-01-01        0       0  \n",
      "5            2014-01-01        0       0  \n",
      "6            2014-01-01        0       0  \n",
      "7            2014-01-01        0       0  \n",
      "8            2014-01-01        0       0  \n",
      "9            2014-01-01        0       0  \n",
      "10           2014-01-01        0       0  \n",
      "11           2014-01-01        0       0  \n",
      "12           2014-01-01        0       2  \n",
      "13           2014-01-01        0       3  \n",
      "14           2014-01-01        0       2  \n",
      "15           2014-01-01        0       2  \n",
      "16           2014-01-01        0       1  \n",
      "17           2014-01-01        0       0  \n",
      "18           2014-01-01        0       0  \n",
      "19           2014-01-01        0       0  \n",
      "20           2014-01-01        0       0  \n",
      "21           2014-01-01        0       0  \n",
      "22           2014-01-01        0       0  \n",
      "23           2014-01-01        0       0  \n",
      "24           2014-01-02        0       0  \n",
      "25           2014-01-02        0       0  \n",
      "26           2014-01-02        0       0  \n",
      "27           2014-01-02        0       0  \n",
      "28           2014-01-02        0       0  \n",
      "29           2014-01-02        0       0  \n",
      "...                 ...      ...     ...  \n",
      "274653       2014-12-30        0       2  \n",
      "274654       2014-12-30        0       0  \n",
      "274655       2014-12-30        0       0  \n",
      "274656       2014-12-30        0       0  \n",
      "274657       2014-12-30        0       0  \n",
      "274658       2014-12-30        0       0  \n",
      "274659       2014-12-31        0       0  \n",
      "274660       2014-12-31        0       0  \n",
      "274661       2014-12-31        0       0  \n",
      "274662       2014-12-31        0       0  \n",
      "274663       2014-12-31        0       0  \n",
      "274664       2014-12-31        0       0  \n",
      "274665       2014-12-31        0       0  \n",
      "274666       2014-12-31        0       0  \n",
      "274667       2014-12-31        0       1  \n",
      "274668       2014-12-31        0       1  \n",
      "274669       2014-12-31        0       2  \n",
      "274670       2014-12-31        0       1  \n",
      "274671       2014-12-31        0       1  \n",
      "274672       2014-12-31        0       0  \n",
      "274673       2014-12-31        0       3  \n",
      "274674       2014-12-31        0       0  \n",
      "274675       2014-12-31        0       0  \n",
      "274676       2014-12-31        0       0  \n",
      "274677       2014-12-31        0       1  \n",
      "274678       2014-12-31        0       0  \n",
      "274679       2014-12-31        0       0  \n",
      "274680       2014-12-31        0       0  \n",
      "274681       2014-12-31        0       0  \n",
      "274682       2014-12-31        0       0  \n",
      "\n",
      "[274683 rows x 9 columns]\n"
     ]
    }
   ],
   "source": [
    "print(bike_data)"
   ]
  },
  {
   "cell_type": "code",
   "execution_count": 10,
   "metadata": {
    "collapsed": false
   },
   "outputs": [
    {
     "data": {
      "text/html": [
       "<div>\n",
       "<table border=\"1\" class=\"dataframe\">\n",
       "  <thead>\n",
       "    <tr style=\"text-align: right;\">\n",
       "      <th></th>\n",
       "      <th>﻿\"Zs Text\"</th>\n",
       "      <th>Vkjahr Id</th>\n",
       "      <th>Vkmona Id</th>\n",
       "      <th>Vktag1 Id</th>\n",
       "      <th>Vkstd1 Id</th>\n",
       "      <th>Vkwota Namek</th>\n",
       "      <th>Zaehlstellezeit2</th>\n",
       "      <th>Ausfall</th>\n",
       "      <th>Anzahl</th>\n",
       "    </tr>\n",
       "  </thead>\n",
       "  <tbody>\n",
       "    <tr>\n",
       "      <th>274678</th>\n",
       "      <td>VZS_ZOLL_E</td>\n",
       "      <td>2014</td>\n",
       "      <td>12</td>\n",
       "      <td>31</td>\n",
       "      <td>19</td>\n",
       "      <td>Mi</td>\n",
       "      <td>2014-12-31</td>\n",
       "      <td>0</td>\n",
       "      <td>0</td>\n",
       "    </tr>\n",
       "    <tr>\n",
       "      <th>274679</th>\n",
       "      <td>VZS_ZOLL_E</td>\n",
       "      <td>2014</td>\n",
       "      <td>12</td>\n",
       "      <td>31</td>\n",
       "      <td>20</td>\n",
       "      <td>Mi</td>\n",
       "      <td>2014-12-31</td>\n",
       "      <td>0</td>\n",
       "      <td>0</td>\n",
       "    </tr>\n",
       "    <tr>\n",
       "      <th>274680</th>\n",
       "      <td>VZS_ZOLL_E</td>\n",
       "      <td>2014</td>\n",
       "      <td>12</td>\n",
       "      <td>31</td>\n",
       "      <td>21</td>\n",
       "      <td>Mi</td>\n",
       "      <td>2014-12-31</td>\n",
       "      <td>0</td>\n",
       "      <td>0</td>\n",
       "    </tr>\n",
       "    <tr>\n",
       "      <th>274681</th>\n",
       "      <td>VZS_ZOLL_E</td>\n",
       "      <td>2014</td>\n",
       "      <td>12</td>\n",
       "      <td>31</td>\n",
       "      <td>22</td>\n",
       "      <td>Mi</td>\n",
       "      <td>2014-12-31</td>\n",
       "      <td>0</td>\n",
       "      <td>0</td>\n",
       "    </tr>\n",
       "    <tr>\n",
       "      <th>274682</th>\n",
       "      <td>VZS_ZOLL_E</td>\n",
       "      <td>2014</td>\n",
       "      <td>12</td>\n",
       "      <td>31</td>\n",
       "      <td>23</td>\n",
       "      <td>Mi</td>\n",
       "      <td>2014-12-31</td>\n",
       "      <td>0</td>\n",
       "      <td>0</td>\n",
       "    </tr>\n",
       "  </tbody>\n",
       "</table>\n",
       "</div>"
      ],
      "text/plain": [
       "        ﻿\"Zs Text\"  Vkjahr Id  Vkmona Id  Vktag1 Id  Vkstd1 Id Vkwota Namek  \\\n",
       "274678  VZS_ZOLL_E       2014         12         31         19           Mi   \n",
       "274679  VZS_ZOLL_E       2014         12         31         20           Mi   \n",
       "274680  VZS_ZOLL_E       2014         12         31         21           Mi   \n",
       "274681  VZS_ZOLL_E       2014         12         31         22           Mi   \n",
       "274682  VZS_ZOLL_E       2014         12         31         23           Mi   \n",
       "\n",
       "       Zaehlstellezeit2  Ausfall  Anzahl  \n",
       "274678       2014-12-31        0       0  \n",
       "274679       2014-12-31        0       0  \n",
       "274680       2014-12-31        0       0  \n",
       "274681       2014-12-31        0       0  \n",
       "274682       2014-12-31        0       0  "
      ]
     },
     "execution_count": 10,
     "metadata": {},
     "output_type": "execute_result"
    }
   ],
   "source": [
    "# Equivalent to bike_data[-6:-1]\n",
    "# For the top 5 use bike_data.head(5)\n",
    "bike_data.tail(5)"
   ]
  },
  {
   "cell_type": "code",
   "execution_count": 11,
   "metadata": {
    "collapsed": false
   },
   "outputs": [
    {
     "data": {
      "text/html": [
       "<div>\n",
       "<table border=\"1\" class=\"dataframe\">\n",
       "  <thead>\n",
       "    <tr style=\"text-align: right;\">\n",
       "      <th></th>\n",
       "      <th>Vkjahr Id</th>\n",
       "      <th>Vkmona Id</th>\n",
       "      <th>Vktag1 Id</th>\n",
       "      <th>Vkstd1 Id</th>\n",
       "      <th>Ausfall</th>\n",
       "      <th>Anzahl</th>\n",
       "    </tr>\n",
       "  </thead>\n",
       "  <tbody>\n",
       "    <tr>\n",
       "      <th>count</th>\n",
       "      <td>274683.0</td>\n",
       "      <td>274683.000000</td>\n",
       "      <td>274683.000000</td>\n",
       "      <td>274683.000000</td>\n",
       "      <td>274683.000000</td>\n",
       "      <td>274683.000000</td>\n",
       "    </tr>\n",
       "    <tr>\n",
       "      <th>mean</th>\n",
       "      <td>2014.0</td>\n",
       "      <td>7.107775</td>\n",
       "      <td>15.764594</td>\n",
       "      <td>11.500726</td>\n",
       "      <td>0.006815</td>\n",
       "      <td>21.499860</td>\n",
       "    </tr>\n",
       "    <tr>\n",
       "      <th>std</th>\n",
       "      <td>0.0</td>\n",
       "      <td>3.273631</td>\n",
       "      <td>8.813974</td>\n",
       "      <td>6.921965</td>\n",
       "      <td>0.082272</td>\n",
       "      <td>37.254278</td>\n",
       "    </tr>\n",
       "    <tr>\n",
       "      <th>min</th>\n",
       "      <td>2014.0</td>\n",
       "      <td>1.000000</td>\n",
       "      <td>1.000000</td>\n",
       "      <td>0.000000</td>\n",
       "      <td>0.000000</td>\n",
       "      <td>0.000000</td>\n",
       "    </tr>\n",
       "    <tr>\n",
       "      <th>25%</th>\n",
       "      <td>2014.0</td>\n",
       "      <td>5.000000</td>\n",
       "      <td>8.000000</td>\n",
       "      <td>6.000000</td>\n",
       "      <td>0.000000</td>\n",
       "      <td>2.000000</td>\n",
       "    </tr>\n",
       "    <tr>\n",
       "      <th>50%</th>\n",
       "      <td>2014.0</td>\n",
       "      <td>7.000000</td>\n",
       "      <td>16.000000</td>\n",
       "      <td>12.000000</td>\n",
       "      <td>0.000000</td>\n",
       "      <td>9.000000</td>\n",
       "    </tr>\n",
       "    <tr>\n",
       "      <th>75%</th>\n",
       "      <td>2014.0</td>\n",
       "      <td>10.000000</td>\n",
       "      <td>23.000000</td>\n",
       "      <td>18.000000</td>\n",
       "      <td>0.000000</td>\n",
       "      <td>26.000000</td>\n",
       "    </tr>\n",
       "    <tr>\n",
       "      <th>max</th>\n",
       "      <td>2014.0</td>\n",
       "      <td>12.000000</td>\n",
       "      <td>31.000000</td>\n",
       "      <td>23.000000</td>\n",
       "      <td>1.000000</td>\n",
       "      <td>1188.000000</td>\n",
       "    </tr>\n",
       "  </tbody>\n",
       "</table>\n",
       "</div>"
      ],
      "text/plain": [
       "       Vkjahr Id      Vkmona Id      Vktag1 Id      Vkstd1 Id        Ausfall  \\\n",
       "count   274683.0  274683.000000  274683.000000  274683.000000  274683.000000   \n",
       "mean      2014.0       7.107775      15.764594      11.500726       0.006815   \n",
       "std          0.0       3.273631       8.813974       6.921965       0.082272   \n",
       "min       2014.0       1.000000       1.000000       0.000000       0.000000   \n",
       "25%       2014.0       5.000000       8.000000       6.000000       0.000000   \n",
       "50%       2014.0       7.000000      16.000000      12.000000       0.000000   \n",
       "75%       2014.0      10.000000      23.000000      18.000000       0.000000   \n",
       "max       2014.0      12.000000      31.000000      23.000000       1.000000   \n",
       "\n",
       "              Anzahl  \n",
       "count  274683.000000  \n",
       "mean       21.499860  \n",
       "std        37.254278  \n",
       "min         0.000000  \n",
       "25%         2.000000  \n",
       "50%         9.000000  \n",
       "75%        26.000000  \n",
       "max      1188.000000  "
      ]
     },
     "execution_count": 11,
     "metadata": {},
     "output_type": "execute_result"
    }
   ],
   "source": [
    "bike_data.describe()"
   ]
  },
  {
   "cell_type": "code",
   "execution_count": 13,
   "metadata": {
    "collapsed": false
   },
   "outputs": [
    {
     "data": {
      "text/plain": [
       "12.0"
      ]
     },
     "execution_count": 13,
     "metadata": {},
     "output_type": "execute_result"
    }
   ],
   "source": [
    "bike_data['Vkstd1 Id'].median()"
   ]
  },
  {
   "cell_type": "code",
   "execution_count": 14,
   "metadata": {
    "collapsed": false
   },
   "outputs": [
    {
     "data": {
      "text/plain": [
       "array([ 0,  1,  2,  3,  4,  5,  6,  7,  8,  9, 10, 11, 12, 13, 14, 15, 16,\n",
       "       17, 18, 19, 20, 21, 22, 23])"
      ]
     },
     "execution_count": 14,
     "metadata": {},
     "output_type": "execute_result"
    }
   ],
   "source": [
    "bike_data['Vkstd1 Id'].unique()"
   ]
  },
  {
   "cell_type": "code",
   "execution_count": 20,
   "metadata": {
    "collapsed": false
   },
   "outputs": [
    {
     "data": {
      "text/plain": [
       "<matplotlib.collections.PathCollection at 0x11b9322d0>"
      ]
     },
     "execution_count": 20,
     "metadata": {},
     "output_type": "execute_result"
    },
    {
     "data": {
      "image/png": "[encoded data removed]",
      "text/plain": [
       "<matplotlib.figure.Figure at 0x11b20fe10>"
      ]
     },
     "metadata": {},
     "output_type": "display_data"
    }
   ],
   "source": [
    "matplotlib.pyplot.style.use = 'default' # the 'look nicer' option\n",
    "plt.scatter(bike_data['Anzahl'], bike_data['Ausfall'])"
   ]
  },
  {
   "cell_type": "code",
   "execution_count": 21,
   "metadata": {
    "collapsed": false
   },
   "outputs": [
    {
     "data": {
      "text/plain": [
       "<matplotlib.axes._subplots.AxesSubplot at 0x11b8de9d0>"
      ]
     },
     "execution_count": 21,
     "metadata": {},
     "output_type": "execute_result"
    },
    {
     "data": {
      "image/png": "[encoded data removed]",
      "text/plain": [
       "<matplotlib.figure.Figure at 0x11b94a310>"
      ]
     },
     "metadata": {},
     "output_type": "display_data"
    }
   ],
   "source": [
    "bike_data.groupby(['Anzahl'])['Ausfall'].sum().plot(kind='bar')"
   ]
  },
  {
   "cell_type": "code",
   "execution_count": null,
   "metadata": {
    "collapsed": true
   },
   "outputs": [],
   "source": [
    "fig = bike_data['Gezählte Velofahrten'].hist(by=bike_data['Zählstelle (Code)'], grid=False, figsize=(26,26))"
   ]
  }
 ],
 "metadata": {
  "kernelspec": {
   "display_name": "Python [conda root]",
   "language": "python",
   "name": "conda-root-py"
  },
  "language_info": {
   "codemirror_mode": {
    "name": "ipython",
    "version": 2
   },
   "file_extension": ".py",
   "mimetype": "text/x-python",
   "name": "python",
   "nbconvert_exporter": "python",
   "pygments_lexer": "ipython2",
   "version": "2.7.12"
  }
 },
 "nbformat": 4,
 "nbformat_minor": 1
}
