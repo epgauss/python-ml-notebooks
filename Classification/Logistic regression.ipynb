{
 "cells": [
  {
   "cell_type": "code",
   "execution_count": 1,
   "metadata": {
    "collapsed": false
   },
   "outputs": [],
   "source": [
    "import numpy as np\n",
    "import matplotlib.pyplot as plt\n",
    "import pandas as pd\n",
    "import tensorflow as tf\n",
    "%matplotlib inline\n",
    "sess = tf.InteractiveSession()"
   ]
  },
  {
   "cell_type": "markdown",
   "metadata": {},
   "source": [
    "## The famous Iris dataset\n",
    "\n",
    "http://archive.ics.uci.edu/ml/datasets/Iris"
   ]
  },
  {
   "cell_type": "code",
   "execution_count": 26,
   "metadata": {
    "collapsed": false
   },
   "outputs": [
    {
     "name": "stdout",
     "output_type": "stream",
     "text": [
      "--2016-11-18 16:06:38--  http://archive.ics.uci.edu/ml/machine-learning-databases/iris/iris.data\n",
      "Resolving archive.ics.uci.edu... 128.195.10.249\n",
      "Connecting to archive.ics.uci.edu|128.195.10.249|:80... connected.\n",
      "HTTP request sent, awaiting response... 200 OK\n",
      "Length: 4551 (4.4K) [text/plain]\n",
      "Saving to: 'iris.data.1'\n",
      "\n",
      "iris.data.1         100%[===================>]   4.44K  --.-KB/s    in 0s      \n",
      "\n",
      "2016-11-18 16:06:39 (150 MB/s) - 'iris.data.1' saved [4551/4551]\n",
      "\n"
     ]
    }
   ],
   "source": [
    "! wget http://archive.ics.uci.edu/ml/machine-learning-databases/iris/iris.data"
   ]
  },
  {
   "cell_type": "code",
   "execution_count": 2,
   "metadata": {
    "collapsed": false
   },
   "outputs": [
    {
     "data": {
      "text/html": [
       "<div>\n",
       "<table border=\"1\" class=\"dataframe\">\n",
       "  <thead>\n",
       "    <tr style=\"text-align: right;\">\n",
       "      <th></th>\n",
       "      <th>sepal_length</th>\n",
       "      <th>sepal_width</th>\n",
       "      <th>petal_length</th>\n",
       "      <th>petal_width</th>\n",
       "      <th>species</th>\n",
       "    </tr>\n",
       "  </thead>\n",
       "  <tbody>\n",
       "    <tr>\n",
       "      <th>0</th>\n",
       "      <td>5.1</td>\n",
       "      <td>3.5</td>\n",
       "      <td>1.4</td>\n",
       "      <td>0.2</td>\n",
       "      <td>Iris-setosa</td>\n",
       "    </tr>\n",
       "    <tr>\n",
       "      <th>1</th>\n",
       "      <td>4.9</td>\n",
       "      <td>3.0</td>\n",
       "      <td>1.4</td>\n",
       "      <td>0.2</td>\n",
       "      <td>Iris-setosa</td>\n",
       "    </tr>\n",
       "    <tr>\n",
       "      <th>2</th>\n",
       "      <td>4.7</td>\n",
       "      <td>3.2</td>\n",
       "      <td>1.3</td>\n",
       "      <td>0.2</td>\n",
       "      <td>Iris-setosa</td>\n",
       "    </tr>\n",
       "    <tr>\n",
       "      <th>3</th>\n",
       "      <td>4.6</td>\n",
       "      <td>3.1</td>\n",
       "      <td>1.5</td>\n",
       "      <td>0.2</td>\n",
       "      <td>Iris-setosa</td>\n",
       "    </tr>\n",
       "    <tr>\n",
       "      <th>4</th>\n",
       "      <td>5.0</td>\n",
       "      <td>3.6</td>\n",
       "      <td>1.4</td>\n",
       "      <td>0.2</td>\n",
       "      <td>Iris-setosa</td>\n",
       "    </tr>\n",
       "  </tbody>\n",
       "</table>\n",
       "</div>"
      ],
      "text/plain": [
       "   sepal_length  sepal_width  petal_length  petal_width      species\n",
       "0           5.1          3.5           1.4          0.2  Iris-setosa\n",
       "1           4.9          3.0           1.4          0.2  Iris-setosa\n",
       "2           4.7          3.2           1.3          0.2  Iris-setosa\n",
       "3           4.6          3.1           1.5          0.2  Iris-setosa\n",
       "4           5.0          3.6           1.4          0.2  Iris-setosa"
      ]
     },
     "execution_count": 2,
     "metadata": {},
     "output_type": "execute_result"
    }
   ],
   "source": [
    "iris = pd.read_csv('iris.data', names=['sepal_length', 'sepal_width', 'petal_length', 'petal_width', 'species'])\n",
    "\n",
    "iris.head()"
   ]
  },
  {
   "cell_type": "code",
   "execution_count": 3,
   "metadata": {
    "collapsed": false
   },
   "outputs": [
    {
     "data": {
      "text/plain": [
       "array([ 1.,  1.,  1.,  1.,  1.,  1.,  1.,  1.,  1.,  1.,  1.,  1.,  1.,\n",
       "        1.,  1.,  1.,  1.,  1.,  1.,  1.,  1.,  1.,  1.,  1.,  1.,  1.,\n",
       "        1.,  1.,  1.,  1.,  1.,  1.,  1.,  1.,  1.,  1.,  1.,  1.,  1.,\n",
       "        1.,  1.,  1.,  1.,  1.,  1.,  1.,  1.,  1.,  1.,  1.,  0.,  0.,\n",
       "        0.,  0.,  0.,  0.,  0.,  0.,  0.,  0.,  0.,  0.,  0.,  0.,  0.,\n",
       "        0.,  0.,  0.,  0.,  0.,  0.,  0.,  0.,  0.,  0.,  0.,  0.,  0.,\n",
       "        0.,  0.,  0.,  0.,  0.,  0.,  0.,  0.,  0.,  0.,  0.,  0.,  0.,\n",
       "        0.,  0.,  0.,  0.,  0.,  0.,  0.,  0.,  0.,  0.,  0.,  0.,  0.,\n",
       "        0.,  0.,  0.,  0.,  0.,  0.,  0.,  0.,  0.,  0.,  0.,  0.,  0.,\n",
       "        0.,  0.,  0.,  0.,  0.,  0.,  0.,  0.,  0.,  0.,  0.,  0.,  0.,\n",
       "        0.,  0.,  0.,  0.,  0.,  0.,  0.,  0.,  0.,  0.,  0.,  0.,  0.,\n",
       "        0.,  0.,  0.,  0.,  0.,  0.,  0.])"
      ]
     },
     "execution_count": 3,
     "metadata": {},
     "output_type": "execute_result"
    },
    {
     "data": {
      "image/png": "[encoded data removed]",
      "text/plain": [
       "<matplotlib.figure.Figure at 0x11c6dff98>"
      ]
     },
     "metadata": {},
     "output_type": "display_data"
    }
   ],
   "source": [
    "x_1 = iris.sepal_width.values\n",
    "x_2 = iris.sepal_length.values\n",
    "\n",
    "X = np.hstack([x_1, x_2])\n",
    "\n",
    "# Iris-setosa versus the other species\n",
    "targets = 1.0 * (iris.species.values == 'Iris-setosa')\n",
    "\n",
    "plt.plot(x_1[targets == 1], x_2[targets == 1], 'ob', label='$y = 1$');\n",
    "plt.plot(x_1[targets == 0], x_2[targets == 0], 'og', label='$y = 0$');\n",
    "\n",
    "targets"
   ]
  },
  {
   "cell_type": "markdown",
   "metadata": {},
   "source": [
    "# Exercise\n",
    "\n",
    "Let's built a binary classifier recognizing Iris-setosa based on the sepals width and length.\n",
    "\n",
    " * Start with any of the high level wrappers from `sklearn` (Look at http://scikit-learn.org/stable/supervised_learning.html, you can try http://scikit-learn.org/stable/modules/generated/sklearn.linear_model.LogisticRegression.html but also give a go at a Naive Bayse approach, ...)\n",
    "\n",
    " * Plot the prediction of your model with 4 colours for the:\n",
    "     * true positives $\\{y = 1, \\hat{y} = 1 \\}$\n",
    "     * false positives $\\{y = 0, \\hat{y} = 1 \\}$\n",
    "     * etc...\n",
    "     \n",
    " * Adapt last week Tensorflow stochastic gradient procedure for the linear model (you now have $d = 3$, ie an additional weight)\n",
    " \n",
    " * Any intuition what's wrong with using a simple linear regression to predict our targets?\n",
    " \n",
    " * Adapt the example here to our dataset https://github.com/aymericdamien/TensorFlow-Examples/blob/master/notebooks/2_BasicModels/logistic_regression.ipynb"
   ]
  },
  {
   "cell_type": "code",
   "execution_count": 4,
   "metadata": {
    "collapsed": true
   },
   "outputs": [],
   "source": [
    "Xt = tf.constant(X, name='Xt')"
   ]
  },
  {
   "cell_type": "code",
   "execution_count": 5,
   "metadata": {
    "collapsed": true
   },
   "outputs": [],
   "source": [
    "Yt = tf.constant(targets, name='Yt')"
   ]
  },
  {
   "cell_type": "code",
   "execution_count": 6,
   "metadata": {
    "collapsed": true
   },
   "outputs": [],
   "source": [
    "# Parameters\n",
    "\n",
    "learning_rate = 0.01\n",
    "training_epochs = 1000\n",
    "display_step = 50\n",
    "n_samples = X.shape[0]"
   ]
  },
  {
   "cell_type": "code",
   "execution_count": 7,
   "metadata": {
    "collapsed": false
   },
   "outputs": [],
   "source": [
    "# tf Graph Input\n",
    "train_X1 = x_1\n",
    "train_X2 = x_2\n",
    "train_Y = targets\n",
    "X1 = tf.placeholder(\"float\")\n",
    "X2 = tf.placeholder(\"float\")\n",
    "Y = tf.placeholder(\"float\")\n",
    "rng = np.random\n",
    "# Set model weights\n",
    "W1 = tf.Variable(rng.randn(), name=\"weight\")\n",
    "W2 = tf.Variable(rng.randn(), name=\"weight\")\n",
    "b = tf.Variable(rng.randn(), name=\"bias\")\n",
    "sess.run(W1.initializer)\n",
    "sess.run(W2.initializer)\n",
    "sess.run(b.initializer)"
   ]
  },
  {
   "cell_type": "code",
   "execution_count": 8,
   "metadata": {
    "collapsed": false
   },
   "outputs": [
    {
     "data": {
      "text/plain": [
       "300"
      ]
     },
     "execution_count": 8,
     "metadata": {},
     "output_type": "execute_result"
    }
   ],
   "source": [
    "# Construct a linear model\n",
    "pred = tf.add(tf.add(tf.mul(X1, W1), tf.mul(X2, W2)), b)\n",
    "n_samples"
   ]
  },
  {
   "cell_type": "code",
   "execution_count": 9,
   "metadata": {
    "collapsed": true
   },
   "outputs": [],
   "source": [
    "# Mean squared error\n",
    "cost = tf.reduce_sum(tf.pow(pred-Y, 2))/(2*n_samples)\n",
    "# Gradient descent\n",
    "optimizer = tf.train.GradientDescentOptimizer(learning_rate).minimize(cost)"
   ]
  },
  {
   "cell_type": "code",
   "execution_count": 10,
   "metadata": {
    "collapsed": true
   },
   "outputs": [],
   "source": [
    "init = tf.initialize_all_variables()"
   ]
  },
  {
   "cell_type": "code",
   "execution_count": 11,
   "metadata": {
    "collapsed": false
   },
   "outputs": [
    {
     "name": "stdout",
     "output_type": "stream",
     "text": [
      "Epoch:   50, cost=0.037278026 W1=0.9161279201507568 W2=-0.018303116783499718 b=-2.391429901123047\n",
      "Epoch:  100, cost=0.036689177 W1=0.9288050532341003 W2=-0.026263108476996422 b=-2.383037567138672\n",
      "Epoch:  150, cost=0.036175501 W1=0.9404006004333496 W2=-0.033639948815107346 b=-2.3747904300689697\n",
      "Epoch:  200, cost=0.035725679 W1=0.950999915599823 W2=-0.04047991707921028 b=-2.3666768074035645\n",
      "Epoch:  250, cost=0.035330132 W1=0.9606813788414001 W2=-0.04682497680187225 b=-2.3586883544921875\n",
      "Epoch:  300, cost=0.034980699 W1=0.9695175886154175 W2=-0.05271422117948532 b=-2.3508150577545166\n",
      "Epoch:  350, cost=0.034670494 W1=0.9775747656822205 W2=-0.05818314477801323 b=-2.3430495262145996\n",
      "Epoch:  400, cost=0.034393638 W1=0.9849146008491516 W2=-0.063264861702919 b=-2.3353841304779053\n",
      "Epoch:  450, cost=0.034145150 W1=0.9915934801101685 W2=-0.06798961758613586 b=-2.3278121948242188\n",
      "Epoch:  500, cost=0.033920810 W1=0.9976640343666077 W2=-0.07238548249006271 b=-2.3203279972076416\n",
      "Epoch:  550, cost=0.033717029 W1=1.003173589706421 W2=-0.07647808641195297 b=-2.312925100326538\n",
      "Epoch:  600, cost=0.033530734 W1=1.008167028427124 W2=-0.08029136061668396 b=-2.305598020553589\n",
      "Epoch:  650, cost=0.033359375 W1=1.0126844644546509 W2=-0.08384694159030914 b=-2.298342704772949\n",
      "Epoch:  700, cost=0.033200730 W1=1.0167640447616577 W2=-0.0871652141213417 b=-2.2911536693573\n",
      "Epoch:  750, cost=0.033052936 W1=1.0204402208328247 W2=-0.0902646854519844 b=-2.284027338027954\n",
      "Epoch:  800, cost=0.032914411 W1=1.0237447023391724 W2=-0.09316235035657883 b=-2.2769596576690674\n",
      "Epoch:  850, cost=0.032783829 W1=1.0267068147659302 W2=-0.09587397426366806 b=-2.2699477672576904\n",
      "Epoch:  900, cost=0.032660019 W1=1.0293539762496948 W2=-0.09841416031122208 b=-2.262986898422241\n",
      "Epoch:  950, cost=0.032542024 W1=1.0317115783691406 W2=-0.10079670697450638 b=-2.256075620651245\n",
      "Epoch: 1000, cost=0.032429017 W1=1.0338016748428345 W2=-0.1030334010720253 b=-2.2492101192474365\n"
     ]
    }
   ],
   "source": [
    "# Launch the graph\n",
    "# Fit all training data\n",
    "for epoch in range(training_epochs):\n",
    "    sess.run(optimizer, feed_dict={X1: train_X1, X2: train_X2, Y: train_Y})\n",
    "\n",
    "    #Display logs per epoch step\n",
    "    if (epoch+1) % display_step == 0:\n",
    "        c = sess.run(cost, feed_dict={X1: train_X1, X2: train_X2, Y: train_Y})\n",
    "        print(\"Epoch: {:4d}, cost={:.9f} W1={} W2={} b={}\".format(epoch+1, c, sess.run(W1), sess.run(W2), sess.run(b)))"
   ]
  },
  {
   "cell_type": "code",
   "execution_count": 12,
   "metadata": {
    "collapsed": false
   },
   "outputs": [
    {
     "name": "stdout",
     "output_type": "stream",
     "text": [
      "Optimization Finished!\n",
      "Training cost= 0.032429 W1= 1.0338 W2= -0.103033 b= -2.24921 \n",
      "\n"
     ]
    },
    {
     "data": {
      "image/png": "[encoded data removed]",
      "text/plain": [
       "<matplotlib.figure.Figure at 0x11f386da0>"
      ]
     },
     "metadata": {},
     "output_type": "display_data"
    }
   ],
   "source": [
    "print(\"Optimization Finished!\")\n",
    "training_cost = sess.run(cost, feed_dict={X1: train_X1, X2: train_X2, Y: train_Y})\n",
    "print(\"Training cost=\", training_cost, \"W1=\", sess.run(W1), \"W2=\", sess.run(W2), \"b=\", sess.run(b), '\\n')\n",
    "\n",
    "#Graphic display\n",
    "plt.plot(x_1[targets == 1], x_2[targets == 1], 'ob', label='$y = 1$');\n",
    "plt.plot(x_1[targets == 0], x_2[targets == 0], 'og', label='$y = 0$');\n",
    "\n",
    "# res = (sess.run(W1) * train_X1 + sess.run(W2) * train_X2) + sess.run(b)\n",
    "# res = (0.5 - b - x1 * w1) / w2\n",
    "res = (0.5 - sess.run(b) - train_X1 * sess.run(W1)) / sess.run(W2)\n",
    "plt.plot(x_1, res, 'r', label='$y = 0.5$');\n",
    "\n",
    "plt.legend()\n",
    "plt.show()"
   ]
  },
  {
   "cell_type": "markdown",
   "metadata": {},
   "source": [
    "# Binary classification with the logistic regression\n",
    "\n",
    "For $n$ samples $(x_i, y_i)_{i=1,\\ldots, n}$ :\n",
    "\n",
    "$$ P[y_i = 1] = \\sigma(\\mathbf{X}_i \\mathbf{w} ) $$ \n",
    "\n",
    "with $\\sigma$ the sigmoid or logistic function:\n",
    "\n",
    "$$ \\sigma(x) = \\frac{1}{1 + e^{x}} $$ "
   ]
  },
  {
   "cell_type": "code",
   "execution_count": 15,
   "metadata": {
    "collapsed": false
   },
   "outputs": [],
   "source": [
    "# tf Graph Input\n",
    "train_X1 = x_1\n",
    "train_X2 = x_2\n",
    "train_Y = targets\n",
    "X1 = tf.placeholder(\"float\")\n",
    "X2 = tf.placeholder(\"float\")\n",
    "Y = tf.placeholder(\"float\")\n",
    "rng = np.random\n",
    "# Set model weights\n",
    "W1 = tf.Variable(rng.randn(), name=\"weight\")\n",
    "W2 = tf.Variable(rng.randn(), name=\"weight\")\n",
    "b = tf.Variable(rng.randn(), name=\"bias\")\n",
    "sess.run(W1.initializer)\n",
    "sess.run(W2.initializer)\n",
    "sess.run(b.initializer)"
   ]
  },
  {
   "cell_type": "code",
   "execution_count": 14,
   "metadata": {
    "collapsed": false
   },
   "outputs": [
    {
     "data": {
      "text/plain": [
       "300"
      ]
     },
     "execution_count": 14,
     "metadata": {},
     "output_type": "execute_result"
    }
   ],
   "source": [
    "# Construct a linear model\n",
    "logits = tf.add(tf.add(tf.mul(X1, W1), tf.mul(X2, W2)), b)\n",
    "y_preds = tf.sigmoid(logits)\n",
    "n_samples"
   ]
  },
  {
   "cell_type": "code",
   "execution_count": 17,
   "metadata": {
    "collapsed": true
   },
   "outputs": [],
   "source": [
    "import scipy as sp\n",
    "def logloss(act, pred):\n",
    "    epsilon = 1e-15\n",
    "    pred = sp.maximum(epsilon, pred)\n",
    "    pred = sp.minimum(1-epsilon, pred)\n",
    "    ll = sum(act*sp.log(pred) + sp.subtract(1,act)*sp.log(sp.subtract(1,pred)))\n",
    "    ll = ll * -1.0/len(act)\n",
    "    return ll"
   ]
  },
  {
   "cell_type": "code",
   "execution_count": 18,
   "metadata": {
    "collapsed": false
   },
   "outputs": [
    {
     "ename": "TypeError",
     "evalue": "Using a `tf.Tensor` as a Python `bool` is not allowed. Use `if t is not None:` instead of `if t:` to test if a tensor is defined, and use the logical TensorFlow ops to test the value of a tensor.",
     "output_type": "error",
     "traceback": [
      "\u001b[0;31m---------------------------------------------------------------------------\u001b[0m",
      "\u001b[0;31mTypeError\u001b[0m                                 Traceback (most recent call last)",
      "\u001b[0;32m<ipython-input-18-2ce30e854424>\u001b[0m in \u001b[0;36m<module>\u001b[0;34m()\u001b[0m\n\u001b[1;32m      6\u001b[0m \u001b[0;31m#cost = tf.reduce_mean(sample_cost)\u001b[0m\u001b[0;34m\u001b[0m\u001b[0;34m\u001b[0m\u001b[0m\n\u001b[1;32m      7\u001b[0m \u001b[0;34m\u001b[0m\u001b[0m\n\u001b[0;32m----> 8\u001b[0;31m \u001b[0mcost\u001b[0m \u001b[0;34m=\u001b[0m \u001b[0mlogloss\u001b[0m\u001b[0;34m(\u001b[0m\u001b[0mY\u001b[0m\u001b[0;34m,\u001b[0m \u001b[0my_preds\u001b[0m\u001b[0;34m)\u001b[0m\u001b[0;34m\u001b[0m\u001b[0m\n\u001b[0m\u001b[1;32m      9\u001b[0m \u001b[0;34m\u001b[0m\u001b[0m\n\u001b[1;32m     10\u001b[0m \u001b[0;31m# Gradient descent\u001b[0m\u001b[0;34m\u001b[0m\u001b[0;34m\u001b[0m\u001b[0m\n",
      "\u001b[0;32m<ipython-input-17-0b4cd9be5352>\u001b[0m in \u001b[0;36mlogloss\u001b[0;34m(act, pred)\u001b[0m\n\u001b[1;32m      2\u001b[0m \u001b[0;32mdef\u001b[0m \u001b[0mlogloss\u001b[0m\u001b[0;34m(\u001b[0m\u001b[0mact\u001b[0m\u001b[0;34m,\u001b[0m \u001b[0mpred\u001b[0m\u001b[0;34m)\u001b[0m\u001b[0;34m:\u001b[0m\u001b[0;34m\u001b[0m\u001b[0m\n\u001b[1;32m      3\u001b[0m     \u001b[0mepsilon\u001b[0m \u001b[0;34m=\u001b[0m \u001b[0;36m1e-15\u001b[0m\u001b[0;34m\u001b[0m\u001b[0m\n\u001b[0;32m----> 4\u001b[0;31m     \u001b[0mpred\u001b[0m \u001b[0;34m=\u001b[0m \u001b[0msp\u001b[0m\u001b[0;34m.\u001b[0m\u001b[0mmaximum\u001b[0m\u001b[0;34m(\u001b[0m\u001b[0mepsilon\u001b[0m\u001b[0;34m,\u001b[0m \u001b[0mpred\u001b[0m\u001b[0;34m)\u001b[0m\u001b[0;34m\u001b[0m\u001b[0m\n\u001b[0m\u001b[1;32m      5\u001b[0m     \u001b[0mpred\u001b[0m \u001b[0;34m=\u001b[0m \u001b[0msp\u001b[0m\u001b[0;34m.\u001b[0m\u001b[0mminimum\u001b[0m\u001b[0;34m(\u001b[0m\u001b[0;36m1\u001b[0m\u001b[0;34m-\u001b[0m\u001b[0mepsilon\u001b[0m\u001b[0;34m,\u001b[0m \u001b[0mpred\u001b[0m\u001b[0;34m)\u001b[0m\u001b[0;34m\u001b[0m\u001b[0m\n\u001b[1;32m      6\u001b[0m     \u001b[0mll\u001b[0m \u001b[0;34m=\u001b[0m \u001b[0msum\u001b[0m\u001b[0;34m(\u001b[0m\u001b[0mact\u001b[0m\u001b[0;34m*\u001b[0m\u001b[0msp\u001b[0m\u001b[0;34m.\u001b[0m\u001b[0mlog\u001b[0m\u001b[0;34m(\u001b[0m\u001b[0mpred\u001b[0m\u001b[0;34m)\u001b[0m \u001b[0;34m+\u001b[0m \u001b[0msp\u001b[0m\u001b[0;34m.\u001b[0m\u001b[0msubtract\u001b[0m\u001b[0;34m(\u001b[0m\u001b[0;36m1\u001b[0m\u001b[0;34m,\u001b[0m\u001b[0mact\u001b[0m\u001b[0;34m)\u001b[0m\u001b[0;34m*\u001b[0m\u001b[0msp\u001b[0m\u001b[0;34m.\u001b[0m\u001b[0mlog\u001b[0m\u001b[0;34m(\u001b[0m\u001b[0msp\u001b[0m\u001b[0;34m.\u001b[0m\u001b[0msubtract\u001b[0m\u001b[0;34m(\u001b[0m\u001b[0;36m1\u001b[0m\u001b[0;34m,\u001b[0m\u001b[0mpred\u001b[0m\u001b[0;34m)\u001b[0m\u001b[0;34m)\u001b[0m\u001b[0;34m)\u001b[0m\u001b[0;34m\u001b[0m\u001b[0m\n",
      "\u001b[0;32m/Users/olegshevelev/Soft/anaconda3/lib/python3.5/site-packages/tensorflow/python/framework/ops.py\u001b[0m in \u001b[0;36m__bool__\u001b[0;34m(self)\u001b[0m\n\u001b[1;32m    514\u001b[0m       \u001b[0;31m`\u001b[0m\u001b[0mTypeError\u001b[0m\u001b[0;31m`\u001b[0m\u001b[0;34m.\u001b[0m\u001b[0;34m\u001b[0m\u001b[0m\n\u001b[1;32m    515\u001b[0m     \"\"\"\n\u001b[0;32m--> 516\u001b[0;31m     raise TypeError(\"Using a `tf.Tensor` as a Python `bool` is not allowed. \"\n\u001b[0m\u001b[1;32m    517\u001b[0m                     \u001b[0;34m\"Use `if t is not None:` instead of `if t:` to test if a \"\u001b[0m\u001b[0;34m\u001b[0m\u001b[0m\n\u001b[1;32m    518\u001b[0m                     \u001b[0;34m\"tensor is defined, and use the logical TensorFlow ops \"\u001b[0m\u001b[0;34m\u001b[0m\u001b[0m\n",
      "\u001b[0;31mTypeError\u001b[0m: Using a `tf.Tensor` as a Python `bool` is not allowed. Use `if t is not None:` instead of `if t:` to test if a tensor is defined, and use the logical TensorFlow ops to test the value of a tensor."
     ]
    }
   ],
   "source": [
    "# Mean squared error\n",
    "# cost = tf.reduce_sum(tf.pow(pred-Y, 2))/(2*n_samples)\n",
    "# logistic loss\n",
    "\n",
    "#sample_cost = -Y * tf.log(y_preds)\n",
    "#cost = tf.reduce_mean(sample_cost)\n",
    "\n",
    "cost = logloss(Y, y_preds)\n",
    "\n",
    "# Gradient descent\n",
    "learning_rate = 0.00000001\n",
    "optimizer = tf.train.GradientDescentOptimizer(learning_rate).minimize(cost)"
   ]
  },
  {
   "cell_type": "code",
   "execution_count": 167,
   "metadata": {
    "collapsed": true
   },
   "outputs": [],
   "source": [
    "init = tf.initialize_all_variables()"
   ]
  },
  {
   "cell_type": "code",
   "execution_count": 168,
   "metadata": {
    "collapsed": false
   },
   "outputs": [
    {
     "name": "stdout",
     "output_type": "stream",
     "text": [
      "Epoch:   50, cost=0.001323621 W1=-0.29390406608581543 W2=1.2947120666503906 b=0.12006556987762451\n",
      "Epoch:  100, cost=0.001323621 W1=-0.29390406608581543 W2=1.2947120666503906 b=0.12006556987762451\n",
      "Epoch:  150, cost=0.001323621 W1=-0.29390406608581543 W2=1.2947120666503906 b=0.12006556987762451\n",
      "Epoch:  200, cost=0.001323621 W1=-0.29390406608581543 W2=1.2947120666503906 b=0.12006556987762451\n",
      "Epoch:  250, cost=0.001323621 W1=-0.29390406608581543 W2=1.2947120666503906 b=0.12006556987762451\n",
      "Epoch:  300, cost=0.001323621 W1=-0.29390406608581543 W2=1.2947120666503906 b=0.12006556987762451\n",
      "Epoch:  350, cost=0.001323621 W1=-0.29390406608581543 W2=1.2947120666503906 b=0.12006556987762451\n",
      "Epoch:  400, cost=0.001323621 W1=-0.29390406608581543 W2=1.2947120666503906 b=0.12006556987762451\n",
      "Epoch:  450, cost=0.001323621 W1=-0.29390406608581543 W2=1.2947120666503906 b=0.12006556987762451\n",
      "Epoch:  500, cost=0.001323621 W1=-0.29390406608581543 W2=1.2947120666503906 b=0.12006556987762451\n",
      "Epoch:  550, cost=0.001323621 W1=-0.29390406608581543 W2=1.2947120666503906 b=0.12006556987762451\n",
      "Epoch:  600, cost=0.001323621 W1=-0.29390406608581543 W2=1.2947120666503906 b=0.12006556987762451\n",
      "Epoch:  650, cost=0.001323621 W1=-0.29390406608581543 W2=1.2947120666503906 b=0.12006556987762451\n",
      "Epoch:  700, cost=0.001323621 W1=-0.29390406608581543 W2=1.2947120666503906 b=0.12006556987762451\n",
      "Epoch:  750, cost=0.001323621 W1=-0.29390406608581543 W2=1.2947120666503906 b=0.12006556987762451\n",
      "Epoch:  800, cost=0.001323621 W1=-0.29390406608581543 W2=1.2947120666503906 b=0.12006556987762451\n",
      "Epoch:  850, cost=0.001323621 W1=-0.29390406608581543 W2=1.2947120666503906 b=0.12006556987762451\n",
      "Epoch:  900, cost=0.001323621 W1=-0.29390406608581543 W2=1.2947120666503906 b=0.12006556987762451\n",
      "Epoch:  950, cost=0.001323621 W1=-0.29390406608581543 W2=1.2947120666503906 b=0.12006556987762451\n",
      "Epoch: 1000, cost=0.001323621 W1=-0.29390406608581543 W2=1.2947120666503906 b=0.12006556987762451\n"
     ]
    }
   ],
   "source": [
    "# Launch the graph\n",
    "# Fit all training data\n",
    "for epoch in range(training_epochs):\n",
    "    sess.run(optimizer, feed_dict={X1: train_X1, X2: train_X2, Y: train_Y})\n",
    "\n",
    "    #Display logs per epoch step\n",
    "    if (epoch+1) % display_step == 0:\n",
    "        c = sess.run(cost, feed_dict={X1: train_X1, X2: train_X2, Y: train_Y})\n",
    "        print(\"Epoch: {:4d}, cost={:.9f} W1={} W2={} b={}\".format(epoch+1, c, sess.run(W1), sess.run(W2), sess.run(b)))"
   ]
  },
  {
   "cell_type": "code",
   "execution_count": 169,
   "metadata": {
    "collapsed": false
   },
   "outputs": [
    {
     "name": "stdout",
     "output_type": "stream",
     "text": [
      "Optimization Finished!\n",
      "Training cost= 0.00132362 W1= -0.293904 W2= 1.29471 b= 0.120066 \n",
      "\n"
     ]
    },
    {
     "data": {
      "image/png": "[encoded data removed]",
      "text/plain": [
       "<matplotlib.figure.Figure at 0x12213ac88>"
      ]
     },
     "metadata": {},
     "output_type": "display_data"
    }
   ],
   "source": [
    "print(\"Optimization Finished!\")\n",
    "training_cost = sess.run(cost, feed_dict={X1: train_X1, X2: train_X2, Y: train_Y})\n",
    "print(\"Training cost=\", training_cost, \"W1=\", sess.run(W1), \"W2=\", sess.run(W2), \"b=\", sess.run(b), '\\n')\n",
    "\n",
    "#Graphic display\n",
    "plt.plot(x_1[targets == 1], x_2[targets == 1], 'ob', label='$y = 1$');\n",
    "plt.plot(x_1[targets == 0], x_2[targets == 0], 'og', label='$y = 0$');\n",
    "\n",
    "# x1*w1 + x2*w2 + b = 0.5\n",
    "# sig(x1*w1 + x2*w2 + b) = 0.5\n",
    "# x1*w1 + x2*w2 + b = inv(0.5)\n",
    "# res = (sess.run(W1) * train_X1 + sess.run(W2) * train_X2) + sess.run(b)\n",
    "# res = (0.5 - b - x1 * w1) / w2\n",
    "res = (-sess.run(b) - train_X1 * sess.run(W1)) / sess.run(W2)\n",
    "plt.plot(x_1, res, 'r', label='$y = 0.5$');\n",
    "\n",
    "plt.legend()\n",
    "plt.show()"
   ]
  },
  {
   "cell_type": "code",
   "execution_count": 161,
   "metadata": {
    "collapsed": false
   },
   "outputs": [
    {
     "data": {
      "text/plain": [
       "array([ 0.99664658,  0.99625081,  0.99485576,  0.99431735,  0.99607158,\n",
       "        0.99744022,  0.99379683,  0.99629492,  0.99306679,  0.99613935,\n",
       "        0.99758601,  0.99520516,  0.99573475,  0.99188274,  0.99842799,\n",
       "        0.99798822,  0.99744022,  0.99664658,  0.99831295,  0.99633873,\n",
       "        0.99778926,  0.9964444 ,  0.9934237 ,  0.9968375 ,  0.99520516,\n",
       "        0.99670452,  0.99629492,  0.99705267,  0.99713778,  0.99485576,\n",
       "        0.99560803,  0.99778926,  0.99648631,  0.99754351,  0.99613935,\n",
       "        0.99650574,  0.99799937,  0.99613935,  0.99286145,  0.9967435 ,\n",
       "        0.99618489,  0.99488419,  0.99243259,  0.99618489,  0.99633873,\n",
       "        0.99573475,  0.99633873,  0.99414885,  0.99725324,  0.99640191,\n",
       "        0.99973685,  0.99942797,  0.99970919,  0.99859315,  0.99955314,\n",
       "        0.99874204,  0.99932957,  0.9968549 ,  0.9995957 ,  0.9976688 ,\n",
       "        0.99754167,  0.99897003,  0.99928445,  0.99922776,  0.9985258 ,\n",
       "        0.99962318,  0.99848181,  0.99892658,  0.99944764,  0.99868912,\n",
       "        0.99890769,  0.99925011,  0.99946994,  0.99925011,  0.99947625,\n",
       "        0.99958366,  0.99969697,  0.99963415,  0.99912113,  0.99881375,\n",
       "        0.99855119,  0.99855119,  0.99892658,  0.99917126,  0.99803406,\n",
       "        0.99898213,  0.99962318,  0.99950016,  0.99848181,  0.99850804,\n",
       "        0.99846375,  0.99920481,  0.99895763,  0.9973157 ,  0.99860978,\n",
       "        0.99866593,  0.99870455,  0.99932158,  0.99749845,  0.99874204,\n",
       "        0.99932957,  0.99892658,  0.99978203,  0.99940383,  0.99952614,\n",
       "        0.99988592,  0.9967615 ,  0.99983656,  0.9996841 ,  0.99977154,\n",
       "        0.99949741,  0.99950612,  0.99967861,  0.99884808,  0.99889463,\n",
       "        0.99942797,  0.99952614,  0.99987316,  0.99991083,  0.99928445,\n",
       "        0.99970055,  0.99856842,  0.99990547,  0.99943787,  0.99960047,\n",
       "        0.99979693,  0.99934107,  0.99920481,  0.99949133,  0.99980849,\n",
       "        0.99986053,  0.99990213,  0.99949133,  0.99942112,  0.99929285,\n",
       "        0.99989974,  0.99930954,  0.99944454,  0.99909496,  0.99970919,\n",
       "        0.99962318,  0.99970919,  0.99892658,  0.99965906,  0.99960047,\n",
       "        0.99963415,  0.99946994,  0.99952614,  0.99921417,  0.99897003], dtype=float32)"
      ]
     },
     "execution_count": 161,
     "metadata": {},
     "output_type": "execute_result"
    }
   ],
   "source": [
    "sess.run(y_preds, feed_dict={X1: train_X1, X2: train_X2, Y: train_Y} )"
   ]
  },
  {
   "cell_type": "code",
   "execution_count": null,
   "metadata": {
    "collapsed": true
   },
   "outputs": [],
   "source": []
  }
 ],
 "metadata": {
  "anaconda-cloud": {},
  "kernelspec": {
   "display_name": "Python [conda root]",
   "language": "python",
   "name": "conda-root-py"
  },
  "language_info": {
   "codemirror_mode": {
    "name": "ipython",
    "version": 3
   },
   "file_extension": ".py",
   "mimetype": "text/x-python",
   "name": "python",
   "nbconvert_exporter": "python",
   "pygments_lexer": "ipython3",
   "version": "3.5.2"
  }
 },
 "nbformat": 4,
 "nbformat_minor": 1
}
